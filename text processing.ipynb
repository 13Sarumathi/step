{
 "cells": [
  {
   "cell_type": "code",
   "execution_count": null,
   "metadata": {},
   "outputs": [],
   "source": [
    "sentence =\n",
    "processed_text = processed_text(sentence)\n",
    "print(\"\")"
   ]
  },
  {
   "cell_type": "code",
   "execution_count": 13,
   "metadata": {},
   "outputs": [
    {
     "name": "stderr",
     "output_type": "stream",
     "text": [
      "[nltk_data] Downloading package wordnet to\n",
      "[nltk_data]     C:\\Users\\mithl\\AppData\\Roaming\\nltk_data...\n"
     ]
    },
    {
     "name": "stdout",
     "output_type": "stream",
     "text": [
      "['trouble', 'troubling', 'troblues', 'dogs', 'cats'] ['trouble', 'trouble', 'troblues', 'dog', 'cat']\n"
     ]
    }
   ],
   "source": [
    "from nltk.stem import WordNetLemmatizer\n",
    "nltk.download('wordnet')\n",
    "\n",
    "#init lemmatizer\n",
    "lemmatizer = WordNetLemmatizer()\n",
    "words=[\"trouble\",\"troubling\",\"troblues\",\"dogs\",\"cats\"]\n",
    "lemmatized_words=[lemmatizer.lemmatize(word=word,pos='v') for word in words]\n",
    "print(words, lemmatized_words)"
   ]
  },
  {
   "cell_type": "code",
   "execution_count": 12,
   "metadata": {},
   "outputs": [
    {
     "data": {
      "text/html": [
       "<div>\n",
       "<style scoped>\n",
       "    .dataframe tbody tr th:only-of-type {\n",
       "        vertical-align: middle;\n",
       "    }\n",
       "\n",
       "    .dataframe tbody tr th {\n",
       "        vertical-align: top;\n",
       "    }\n",
       "\n",
       "    .dataframe thead th {\n",
       "        text-align: right;\n",
       "    }\n",
       "</style>\n",
       "<table border=\"1\" class=\"dataframe\">\n",
       "  <thead>\n",
       "    <tr style=\"text-align: right;\">\n",
       "      <th></th>\n",
       "      <th>original_word</th>\n",
       "      <th>stemmed_word</th>\n",
       "    </tr>\n",
       "  </thead>\n",
       "  <tbody>\n",
       "    <tr>\n",
       "      <th>0</th>\n",
       "      <td>connect</td>\n",
       "      <td>connect</td>\n",
       "    </tr>\n",
       "    <tr>\n",
       "      <th>1</th>\n",
       "      <td>connected</td>\n",
       "      <td>connect</td>\n",
       "    </tr>\n",
       "    <tr>\n",
       "      <th>2</th>\n",
       "      <td>connection</td>\n",
       "      <td>connect</td>\n",
       "    </tr>\n",
       "    <tr>\n",
       "      <th>3</th>\n",
       "      <td>connections</td>\n",
       "      <td>connect</td>\n",
       "    </tr>\n",
       "    <tr>\n",
       "      <th>4</th>\n",
       "      <td>connects</td>\n",
       "      <td>connect</td>\n",
       "    </tr>\n",
       "  </tbody>\n",
       "</table>\n",
       "</div>"
      ],
      "text/plain": [
       "  original_word stemmed_word\n",
       "0       connect      connect\n",
       "1     connected      connect\n",
       "2    connection      connect\n",
       "3   connections      connect\n",
       "4      connects      connect"
      ]
     },
     "execution_count": 12,
     "metadata": {},
     "output_type": "execute_result"
    }
   ],
   "source": [
    "# stem connect variations\n",
    "words=[\"connect\",\"connected\",\"connection\",\"connections\",\"connects\"]\n",
    "stemmed_words=[porter_stemmer.stem(word=word) for word in words]\n",
    "\n",
    "stemdf= pd.DataFrame({'original_word': words,'stemmed_word': stemmed_words})\n",
    "stemdf"
   ]
  },
  {
   "cell_type": "code",
   "execution_count": 11,
   "metadata": {},
   "outputs": [],
   "source": [
    "import nltk\n",
    "import pandas as pd\n",
    "from nltk.stem import PorterStemmer\n",
    "\n",
    "#init stremmer\n",
    "porter_stemmer=PorterStemmer()"
   ]
  },
  {
   "cell_type": "code",
   "execution_count": 10,
   "metadata": {},
   "outputs": [
    {
     "name": "stdout",
     "output_type": "stream",
     "text": [
      "['In the previous chapter, we saw examples of some common NLP \\napplications that we might encounter in everyday life.', 'If we were asked to \\nbuild such an application, think about how we would approach doing so at our \\norganization.', 'We would normally walk through the requirements and break the \\nproblem down into several sub-problems, then try to develop a step-by-step \\nprocedure to solve them.', 'Since language processing is involved, we would also\\nlist all the forms of text processing need']\n"
     ]
    },
    {
     "name": "stderr",
     "output_type": "stream",
     "text": [
      "[nltk_data] Downloading package punkt_tab to\n",
      "[nltk_data]     C:\\Users\\mithl\\AppData\\Roaming\\nltk_data...\n",
      "[nltk_data]   Package punkt_tab is already up-to-date!\n"
     ]
    }
   ],
   "source": [
    "from nltk.tokenize import sent_tokenize, word_tokenize\n",
    "import nltk\n",
    "nltk.download('punkt_tab')\n",
    "mytext= \"\"\"In the previous chapter, we saw examples of some common NLP \n",
    "applications that we might encounter in everyday life. If we were asked to \n",
    "build such an application, think about how we would approach doing so at our \n",
    "organization. We would normally walk through the requirements and break the \n",
    "problem down into several sub-problems, then try to develop a step-by-step \n",
    "procedure to solve them. Since language processing is involved, we would also\n",
    "list all the forms of text processing need\"\"\"\n",
    "\n",
    "my_sentences = sent_tokenize(mytext)\n",
    "print(my_sentences)"
   ]
  },
  {
   "cell_type": "code",
   "execution_count": 8,
   "metadata": {},
   "outputs": [
    {
     "name": "stderr",
     "output_type": "stream",
     "text": [
      "[nltk_data] Downloading package punkt_tab to\n",
      "[nltk_data]     C:\\Users\\mithl\\AppData\\Roaming\\nltk_data...\n",
      "[nltk_data]   Unzipping tokenizers\\punkt_tab.zip.\n"
     ]
    },
    {
     "data": {
      "text/plain": [
       "True"
      ]
     },
     "execution_count": 8,
     "metadata": {},
     "output_type": "execute_result"
    }
   ],
   "source": [
    "from nltk.tokenize import sent_tokenize, word_tokenize\n",
    "import nltk\n",
    "nltk.download('punkt_tab')\n"
   ]
  },
  {
   "cell_type": "code",
   "execution_count": 6,
   "metadata": {},
   "outputs": [],
   "source": [
    "## Tokenization"
   ]
  },
  {
   "cell_type": "code",
   "execution_count": 5,
   "metadata": {},
   "outputs": [
    {
     "name": "stdout",
     "output_type": "stream",
     "text": [
      "Collecting nltk\n",
      "  Using cached nltk-3.9.1-py3-none-any.whl.metadata (2.9 kB)\n",
      "Collecting pandas\n",
      "  Using cached pandas-2.2.3-cp311-cp311-win_amd64.whl.metadata (19 kB)\n",
      "Collecting scikit-learn\n",
      "  Using cached scikit_learn-1.6.1-cp311-cp311-win_amd64.whl.metadata (15 kB)\n",
      "Collecting click (from nltk)\n",
      "  Using cached click-8.1.8-py3-none-any.whl.metadata (2.3 kB)\n",
      "Collecting joblib (from nltk)\n",
      "  Using cached joblib-1.4.2-py3-none-any.whl.metadata (5.4 kB)\n",
      "Collecting regex>=2021.8.3 (from nltk)\n",
      "  Using cached regex-2024.11.6-cp311-cp311-win_amd64.whl.metadata (41 kB)\n",
      "Collecting tqdm (from nltk)\n",
      "  Using cached tqdm-4.67.1-py3-none-any.whl.metadata (57 kB)\n",
      "Collecting numpy>=1.23.2 (from pandas)\n",
      "  Using cached numpy-2.2.2-cp311-cp311-win_amd64.whl.metadata (60 kB)\n",
      "Requirement already satisfied: python-dateutil>=2.8.2 in c:\\users\\mithl\\onedrive\\documents\\github\\step\\venv\\lib\\site-packages (from pandas) (2.9.0.post0)\n",
      "Collecting pytz>=2020.1 (from pandas)\n",
      "  Using cached pytz-2024.2-py2.py3-none-any.whl.metadata (22 kB)\n",
      "Collecting tzdata>=2022.7 (from pandas)\n",
      "  Using cached tzdata-2024.2-py2.py3-none-any.whl.metadata (1.4 kB)\n",
      "Collecting scipy>=1.6.0 (from scikit-learn)\n",
      "  Using cached scipy-1.15.1-cp311-cp311-win_amd64.whl.metadata (60 kB)\n",
      "Collecting threadpoolctl>=3.1.0 (from scikit-learn)\n",
      "  Using cached threadpoolctl-3.5.0-py3-none-any.whl.metadata (13 kB)\n",
      "Requirement already satisfied: six>=1.5 in c:\\users\\mithl\\onedrive\\documents\\github\\step\\venv\\lib\\site-packages (from python-dateutil>=2.8.2->pandas) (1.17.0)\n",
      "Requirement already satisfied: colorama in c:\\users\\mithl\\onedrive\\documents\\github\\step\\venv\\lib\\site-packages (from click->nltk) (0.4.6)\n",
      "Using cached nltk-3.9.1-py3-none-any.whl (1.5 MB)\n",
      "Using cached pandas-2.2.3-cp311-cp311-win_amd64.whl (11.6 MB)\n",
      "Using cached scikit_learn-1.6.1-cp311-cp311-win_amd64.whl (11.1 MB)\n",
      "Using cached joblib-1.4.2-py3-none-any.whl (301 kB)\n",
      "Using cached numpy-2.2.2-cp311-cp311-win_amd64.whl (12.9 MB)\n",
      "Using cached pytz-2024.2-py2.py3-none-any.whl (508 kB)\n",
      "Using cached regex-2024.11.6-cp311-cp311-win_amd64.whl (274 kB)\n",
      "Using cached scipy-1.15.1-cp311-cp311-win_amd64.whl (43.9 MB)\n",
      "Using cached threadpoolctl-3.5.0-py3-none-any.whl (18 kB)\n",
      "Using cached tzdata-2024.2-py2.py3-none-any.whl (346 kB)\n",
      "Using cached click-8.1.8-py3-none-any.whl (98 kB)\n",
      "Using cached tqdm-4.67.1-py3-none-any.whl (78 kB)\n",
      "Installing collected packages: pytz, tzdata, tqdm, threadpoolctl, regex, numpy, joblib, click, scipy, pandas, nltk, scikit-learn\n",
      "Successfully installed click-8.1.8 joblib-1.4.2 nltk-3.9.1 numpy-2.2.2 pandas-2.2.3 pytz-2024.2 regex-2024.11.6 scikit-learn-1.6.1 scipy-1.15.1 threadpoolctl-3.5.0 tqdm-4.67.1 tzdata-2024.2\n",
      "Note: you may need to restart the kernel to use updated packages.\n"
     ]
    },
    {
     "name": "stderr",
     "output_type": "stream",
     "text": [
      "\n",
      "[notice] A new release of pip is available: 24.0 -> 24.3.1\n",
      "[notice] To update, run: c:\\Users\\mithl\\OneDrive\\Documents\\GitHub\\step\\venv\\Scripts\\python.exe -m pip install --upgrade pip\n"
     ]
    }
   ],
   "source": [
    "pip install nltk pandas scikit-learn"
   ]
  },
  {
   "cell_type": "code",
   "execution_count": 4,
   "metadata": {},
   "outputs": [],
   "source": [
    "## Tokenization"
   ]
  },
  {
   "cell_type": "code",
   "execution_count": 2,
   "metadata": {},
   "outputs": [
    {
     "name": "stdout",
     "output_type": "stream",
     "text": [
      "hellooooo\n"
     ]
    }
   ],
   "source": [
    "print(\"hellooooo\")"
   ]
  },
  {
   "cell_type": "code",
   "execution_count": 1,
   "metadata": {},
   "outputs": [
    {
     "name": "stdout",
     "output_type": "stream",
     "text": [
      "hello\n"
     ]
    }
   ],
   "source": [
    "print(\"hello\")"
   ]
  },
  {
   "cell_type": "code",
   "execution_count": 1,
   "metadata": {},
   "outputs": [
    {
     "name": "stdout",
     "output_type": "stream",
     "text": [
      "Collecting nltk\n",
      "  Downloading nltk-3.9.1-py3-none-any.whl.metadata (2.9 kB)\n",
      "Collecting pandas\n",
      "  Downloading pandas-2.2.3-cp311-cp311-win_amd64.whl.metadata (19 kB)\n",
      "Collecting scikit-learn\n",
      "  Downloading scikit_learn-1.6.1-cp311-cp311-win_amd64.whl.metadata (15 kB)\n",
      "Collecting click (from nltk)\n",
      "  Downloading click-8.1.8-py3-none-any.whl.metadata (2.3 kB)\n",
      "Collecting joblib (from nltk)\n",
      "  Downloading joblib-1.4.2-py3-none-any.whl.metadata (5.4 kB)\n",
      "Collecting regex>=2021.8.3 (from nltk)\n",
      "  Downloading regex-2024.11.6-cp311-cp311-win_amd64.whl.metadata (41 kB)\n",
      "     ---------------------------------------- 0.0/41.5 kB ? eta -:--:--\n",
      "     ---------------------------------------  41.0/41.5 kB ? eta -:--:--\n",
      "     -------------------------------------- 41.5/41.5 kB 666.1 kB/s eta 0:00:00\n",
      "Collecting tqdm (from nltk)\n",
      "  Downloading tqdm-4.67.1-py3-none-any.whl.metadata (57 kB)\n",
      "     ---------------------------------------- 0.0/57.7 kB ? eta -:--:--\n",
      "     ----------------------------------- ---- 51.2/57.7 kB 2.6 MB/s eta 0:00:01\n",
      "     ----------------------------------- ---- 51.2/57.7 kB 2.6 MB/s eta 0:00:01\n",
      "     -------------------------------------- 57.7/57.7 kB 431.2 kB/s eta 0:00:00\n",
      "Collecting numpy>=1.23.2 (from pandas)\n",
      "  Downloading numpy-2.2.2-cp311-cp311-win_amd64.whl.metadata (60 kB)\n",
      "     ---------------------------------------- 0.0/60.8 kB ? eta -:--:--\n",
      "     --------------------------------- ------ 51.2/60.8 kB 2.7 MB/s eta 0:00:01\n",
      "     -------------------------------------- 60.8/60.8 kB 816.2 kB/s eta 0:00:00\n",
      "Requirement already satisfied: python-dateutil>=2.8.2 in c:\\users\\mithl\\appdata\\local\\packages\\pythonsoftwarefoundation.python.3.11_qbz5n2kfra8p0\\localcache\\local-packages\\python311\\site-packages (from pandas) (2.9.0.post0)\n",
      "Collecting pytz>=2020.1 (from pandas)\n",
      "  Downloading pytz-2024.2-py2.py3-none-any.whl.metadata (22 kB)\n",
      "Collecting tzdata>=2022.7 (from pandas)\n",
      "  Downloading tzdata-2024.2-py2.py3-none-any.whl.metadata (1.4 kB)\n",
      "Collecting scipy>=1.6.0 (from scikit-learn)\n",
      "  Downloading scipy-1.15.1-cp311-cp311-win_amd64.whl.metadata (60 kB)\n",
      "     ---------------------------------------- 0.0/60.8 kB ? eta -:--:--\n",
      "     ---------------------------------------- 60.8/60.8 kB 3.4 MB/s eta 0:00:00\n",
      "Collecting threadpoolctl>=3.1.0 (from scikit-learn)\n",
      "  Downloading threadpoolctl-3.5.0-py3-none-any.whl.metadata (13 kB)\n",
      "Requirement already satisfied: six>=1.5 in c:\\users\\mithl\\appdata\\local\\packages\\pythonsoftwarefoundation.python.3.11_qbz5n2kfra8p0\\localcache\\local-packages\\python311\\site-packages (from python-dateutil>=2.8.2->pandas) (1.17.0)\n",
      "Requirement already satisfied: colorama in c:\\users\\mithl\\appdata\\local\\packages\\pythonsoftwarefoundation.python.3.11_qbz5n2kfra8p0\\localcache\\local-packages\\python311\\site-packages (from click->nltk) (0.4.6)\n",
      "Downloading nltk-3.9.1-py3-none-any.whl (1.5 MB)\n",
      "   ---------------------------------------- 0.0/1.5 MB ? eta -:--:--\n",
      "   ---- ----------------------------------- 0.2/1.5 MB 5.6 MB/s eta 0:00:01\n",
      "   -------- ------------------------------- 0.3/1.5 MB 3.8 MB/s eta 0:00:01\n",
      "   ----------- ---------------------------- 0.5/1.5 MB 3.5 MB/s eta 0:00:01\n",
      "   ---------------- ----------------------- 0.6/1.5 MB 3.5 MB/s eta 0:00:01\n",
      "   ---------------------- ----------------- 0.9/1.5 MB 3.6 MB/s eta 0:00:01\n",
      "   ---------------------------- ----------- 1.1/1.5 MB 4.0 MB/s eta 0:00:01\n",
      "   ------------------------------------- -- 1.4/1.5 MB 4.3 MB/s eta 0:00:01\n",
      "   ---------------------------------------  1.5/1.5 MB 4.3 MB/s eta 0:00:01\n",
      "   ---------------------------------------- 1.5/1.5 MB 3.8 MB/s eta 0:00:00\n",
      "Downloading pandas-2.2.3-cp311-cp311-win_amd64.whl (11.6 MB)\n",
      "   ---------------------------------------- 0.0/11.6 MB ? eta -:--:--\n",
      "   - -------------------------------------- 0.4/11.6 MB 11.9 MB/s eta 0:00:01\n",
      "   --- ------------------------------------ 0.9/11.6 MB 11.2 MB/s eta 0:00:01\n",
      "   ---- ----------------------------------- 1.2/11.6 MB 9.8 MB/s eta 0:00:02\n",
      "   ----- ---------------------------------- 1.6/11.6 MB 9.0 MB/s eta 0:00:02\n",
      "   ------ --------------------------------- 2.0/11.6 MB 9.1 MB/s eta 0:00:02\n",
      "   -------- ------------------------------- 2.4/11.6 MB 9.6 MB/s eta 0:00:01\n",
      "   --------- ------------------------------ 2.7/11.6 MB 9.2 MB/s eta 0:00:01\n",
      "   ----------- ---------------------------- 3.2/11.6 MB 9.3 MB/s eta 0:00:01\n",
      "   ------------- -------------------------- 4.0/11.6 MB 10.3 MB/s eta 0:00:01\n",
      "   --------------- ------------------------ 4.4/11.6 MB 10.1 MB/s eta 0:00:01\n",
      "   ----------------- ---------------------- 5.2/11.6 MB 10.7 MB/s eta 0:00:01\n",
      "   ------------------- -------------------- 5.7/11.6 MB 11.0 MB/s eta 0:00:01\n",
      "   ---------------------- ----------------- 6.4/11.6 MB 11.4 MB/s eta 0:00:01\n",
      "   ------------------------ --------------- 7.2/11.6 MB 11.6 MB/s eta 0:00:01\n",
      "   -------------------------- ------------- 7.8/11.6 MB 11.7 MB/s eta 0:00:01\n",
      "   ----------------------------- ---------- 8.5/11.6 MB 12.1 MB/s eta 0:00:01\n",
      "   ------------------------------- -------- 9.2/11.6 MB 12.6 MB/s eta 0:00:01\n",
      "   ---------------------------------- ----- 10.0/11.6 MB 12.6 MB/s eta 0:00:01\n",
      "   ------------------------------------ --- 10.7/11.6 MB 12.6 MB/s eta 0:00:01\n",
      "   ---------------------------------------  11.6/11.6 MB 14.2 MB/s eta 0:00:01\n",
      "   ---------------------------------------  11.6/11.6 MB 14.2 MB/s eta 0:00:01\n",
      "   ---------------------------------------- 11.6/11.6 MB 13.1 MB/s eta 0:00:00\n",
      "Downloading scikit_learn-1.6.1-cp311-cp311-win_amd64.whl (11.1 MB)\n",
      "   ---------------------------------------- 0.0/11.1 MB ? eta -:--:--\n",
      "   -- ------------------------------------- 0.7/11.1 MB 21.4 MB/s eta 0:00:01\n",
      "   ----- ---------------------------------- 1.5/11.1 MB 19.4 MB/s eta 0:00:01\n",
      "   ------- -------------------------------- 2.1/11.1 MB 18.7 MB/s eta 0:00:01\n",
      "   --------- ------------------------------ 2.8/11.1 MB 16.1 MB/s eta 0:00:01\n",
      "   ------------ --------------------------- 3.6/11.1 MB 16.4 MB/s eta 0:00:01\n",
      "   --------------- ------------------------ 4.5/11.1 MB 16.7 MB/s eta 0:00:01\n",
      "   ----------------- ---------------------- 5.0/11.1 MB 15.9 MB/s eta 0:00:01\n",
      "   -------------------- ------------------- 5.8/11.1 MB 16.1 MB/s eta 0:00:01\n",
      "   ----------------------- ---------------- 6.5/11.1 MB 16.0 MB/s eta 0:00:01\n",
      "   -------------------------- ------------- 7.3/11.1 MB 16.1 MB/s eta 0:00:01\n",
      "   ----------------------------- ---------- 8.1/11.1 MB 16.2 MB/s eta 0:00:01\n",
      "   ------------------------------- -------- 8.8/11.1 MB 16.5 MB/s eta 0:00:01\n",
      "   --------------------------------- ------ 9.4/11.1 MB 16.1 MB/s eta 0:00:01\n",
      "   ------------------------------------ --- 10.2/11.1 MB 15.9 MB/s eta 0:00:01\n",
      "   ---------------------------------------  11.0/11.1 MB 16.0 MB/s eta 0:00:01\n",
      "   ---------------------------------------  11.1/11.1 MB 15.6 MB/s eta 0:00:01\n",
      "   ---------------------------------------- 11.1/11.1 MB 13.9 MB/s eta 0:00:00\n",
      "Downloading joblib-1.4.2-py3-none-any.whl (301 kB)\n",
      "   ---------------------------------------- 0.0/301.8 kB ? eta -:--:--\n",
      "   ---------------------------------------- 301.8/301.8 kB 9.1 MB/s eta 0:00:00\n",
      "Downloading numpy-2.2.2-cp311-cp311-win_amd64.whl (12.9 MB)\n",
      "   ---------------------------------------- 0.0/12.9 MB ? eta -:--:--\n",
      "   -- ------------------------------------- 0.8/12.9 MB 23.7 MB/s eta 0:00:01\n",
      "   ---- ----------------------------------- 1.4/12.9 MB 22.8 MB/s eta 0:00:01\n",
      "   ------ --------------------------------- 2.2/12.9 MB 19.6 MB/s eta 0:00:01\n",
      "   ------- -------------------------------- 2.5/12.9 MB 20.0 MB/s eta 0:00:01\n",
      "   --------- ------------------------------ 3.2/12.9 MB 18.6 MB/s eta 0:00:01\n",
      "   ---------- ----------------------------- 3.5/12.9 MB 15.8 MB/s eta 0:00:01\n",
      "   ------------ --------------------------- 3.9/12.9 MB 13.9 MB/s eta 0:00:01\n",
      "   -------------- ------------------------- 4.7/12.9 MB 14.2 MB/s eta 0:00:01\n",
      "   ---------------- ----------------------- 5.4/12.9 MB 14.4 MB/s eta 0:00:01\n",
      "   ------------------- -------------------- 6.1/12.9 MB 14.5 MB/s eta 0:00:01\n",
      "   --------------------- ------------------ 6.9/12.9 MB 14.7 MB/s eta 0:00:01\n",
      "   ---------------------- ----------------- 7.1/12.9 MB 14.3 MB/s eta 0:00:01\n",
      "   ----------------------- ---------------- 7.7/12.9 MB 14.1 MB/s eta 0:00:01\n",
      "   -------------------------- ------------- 8.6/12.9 MB 14.4 MB/s eta 0:00:01\n",
      "   ---------------------------- ----------- 9.3/12.9 MB 14.5 MB/s eta 0:00:01\n",
      "   ------------------------------ --------- 10.0/12.9 MB 14.5 MB/s eta 0:00:01\n",
      "   --------------------------------- ------ 10.7/12.9 MB 14.2 MB/s eta 0:00:01\n",
      "   ----------------------------------- ---- 11.4/12.9 MB 14.2 MB/s eta 0:00:01\n",
      "   ------------------------------------ --- 11.8/12.9 MB 13.6 MB/s eta 0:00:01\n",
      "   ------------------------------------- -- 12.1/12.9 MB 13.1 MB/s eta 0:00:01\n",
      "   -------------------------------------- - 12.3/12.9 MB 12.6 MB/s eta 0:00:01\n",
      "   -------------------------------------- - 12.6/12.9 MB 12.1 MB/s eta 0:00:01\n",
      "   ---------------------------------------  12.9/12.9 MB 12.1 MB/s eta 0:00:01\n",
      "   ---------------------------------------- 12.9/12.9 MB 11.7 MB/s eta 0:00:00\n",
      "Downloading pytz-2024.2-py2.py3-none-any.whl (508 kB)\n",
      "   ---------------------------------------- 0.0/508.0 kB ? eta -:--:--\n",
      "   --------------------------------------  501.8/508.0 kB 32.8 MB/s eta 0:00:01\n",
      "   ---------------------------------------- 508.0/508.0 kB 6.4 MB/s eta 0:00:00\n",
      "Downloading regex-2024.11.6-cp311-cp311-win_amd64.whl (274 kB)\n",
      "   ---------------------------------------- 0.0/274.1 kB ? eta -:--:--\n",
      "   ---------------------------------------- 274.1/274.1 kB 8.5 MB/s eta 0:00:00\n",
      "Downloading scipy-1.15.1-cp311-cp311-win_amd64.whl (43.9 MB)\n",
      "   ---------------------------------------- 0.0/43.9 MB ? eta -:--:--\n",
      "    --------------------------------------- 0.7/43.9 MB 45.7 MB/s eta 0:00:01\n",
      "   - -------------------------------------- 1.3/43.9 MB 13.4 MB/s eta 0:00:04\n",
      "   - -------------------------------------- 1.4/43.9 MB 13.0 MB/s eta 0:00:04\n",
      "   - -------------------------------------- 1.7/43.9 MB 9.2 MB/s eta 0:00:05\n",
      "   -- ------------------------------------- 2.2/43.9 MB 10.1 MB/s eta 0:00:05\n",
      "   -- ------------------------------------- 2.2/43.9 MB 7.9 MB/s eta 0:00:06\n",
      "   -- ------------------------------------- 2.9/43.9 MB 9.4 MB/s eta 0:00:05\n",
      "   -- ------------------------------------- 2.9/43.9 MB 9.0 MB/s eta 0:00:05\n",
      "   --- ------------------------------------ 3.7/43.9 MB 9.0 MB/s eta 0:00:05\n",
      "   --- ------------------------------------ 3.7/43.9 MB 8.8 MB/s eta 0:00:05\n",
      "   --- ------------------------------------ 3.9/43.9 MB 7.9 MB/s eta 0:00:06\n",
      "   ---- ----------------------------------- 4.4/43.9 MB 8.3 MB/s eta 0:00:05\n",
      "   ---- ----------------------------------- 4.4/43.9 MB 8.3 MB/s eta 0:00:05\n",
      "   ---- ----------------------------------- 4.9/43.9 MB 7.4 MB/s eta 0:00:06\n",
      "   ---- ----------------------------------- 5.2/43.9 MB 7.7 MB/s eta 0:00:06\n",
      "   ----- ---------------------------------- 5.6/43.9 MB 7.5 MB/s eta 0:00:06\n",
      "   ----- ---------------------------------- 5.9/43.9 MB 7.4 MB/s eta 0:00:06\n",
      "   ----- ---------------------------------- 6.3/43.9 MB 7.3 MB/s eta 0:00:06\n",
      "   ------ --------------------------------- 6.6/43.9 MB 7.4 MB/s eta 0:00:06\n",
      "   ------ --------------------------------- 6.9/43.9 MB 7.3 MB/s eta 0:00:06\n",
      "   ------ --------------------------------- 7.3/43.9 MB 7.4 MB/s eta 0:00:05\n",
      "   ------ --------------------------------- 7.5/43.9 MB 7.4 MB/s eta 0:00:05\n",
      "   ------- -------------------------------- 8.0/43.9 MB 7.4 MB/s eta 0:00:05\n",
      "   ------- -------------------------------- 8.3/43.9 MB 7.4 MB/s eta 0:00:05\n",
      "   -------- ------------------------------- 9.0/43.9 MB 7.6 MB/s eta 0:00:05\n",
      "   -------- ------------------------------- 9.4/43.9 MB 7.7 MB/s eta 0:00:05\n",
      "   -------- ------------------------------- 9.7/43.9 MB 7.7 MB/s eta 0:00:05\n",
      "   --------- ------------------------------ 10.0/43.9 MB 7.7 MB/s eta 0:00:05\n",
      "   --------- ------------------------------ 10.3/43.9 MB 7.8 MB/s eta 0:00:05\n",
      "   --------- ------------------------------ 10.7/43.9 MB 7.4 MB/s eta 0:00:05\n",
      "   ---------- ----------------------------- 11.0/43.9 MB 7.5 MB/s eta 0:00:05\n",
      "   ---------- ----------------------------- 11.4/43.9 MB 7.2 MB/s eta 0:00:05\n",
      "   ---------- ----------------------------- 11.7/43.9 MB 7.6 MB/s eta 0:00:05\n",
      "   ---------- ----------------------------- 11.9/43.9 MB 7.4 MB/s eta 0:00:05\n",
      "   ----------- ---------------------------- 12.5/43.9 MB 7.7 MB/s eta 0:00:05\n",
      "   ----------- ---------------------------- 12.6/43.9 MB 7.4 MB/s eta 0:00:05\n",
      "   ----------- ---------------------------- 13.1/43.9 MB 7.3 MB/s eta 0:00:05\n",
      "   ------------ --------------------------- 13.2/43.9 MB 7.6 MB/s eta 0:00:05\n",
      "   ------------ --------------------------- 13.8/43.9 MB 7.3 MB/s eta 0:00:05\n",
      "   ------------ --------------------------- 13.9/43.9 MB 7.1 MB/s eta 0:00:05\n",
      "   ------------- -------------------------- 14.3/43.9 MB 7.5 MB/s eta 0:00:04\n",
      "   ------------- -------------------------- 14.6/43.9 MB 7.4 MB/s eta 0:00:04\n",
      "   ------------- -------------------------- 15.1/43.9 MB 7.7 MB/s eta 0:00:04\n",
      "   ------------- -------------------------- 15.3/43.9 MB 7.7 MB/s eta 0:00:04\n",
      "   -------------- ------------------------- 15.8/43.9 MB 7.7 MB/s eta 0:00:04\n",
      "   -------------- ------------------------- 16.1/43.9 MB 7.7 MB/s eta 0:00:04\n",
      "   --------------- ------------------------ 16.8/43.9 MB 7.9 MB/s eta 0:00:04\n",
      "   --------------- ------------------------ 17.3/43.9 MB 8.1 MB/s eta 0:00:04\n",
      "   --------------- ------------------------ 17.5/43.9 MB 8.1 MB/s eta 0:00:04\n",
      "   ---------------- ----------------------- 18.2/43.9 MB 8.3 MB/s eta 0:00:04\n",
      "   ----------------- ---------------------- 18.9/43.9 MB 8.4 MB/s eta 0:00:03\n",
      "   ----------------- ---------------------- 19.2/43.9 MB 8.3 MB/s eta 0:00:03\n",
      "   ----------------- ---------------------- 19.3/43.9 MB 8.3 MB/s eta 0:00:03\n",
      "   ------------------ --------------------- 19.8/43.9 MB 8.1 MB/s eta 0:00:03\n",
      "   ------------------ --------------------- 20.2/43.9 MB 8.2 MB/s eta 0:00:03\n",
      "   ------------------ --------------------- 20.7/43.9 MB 8.4 MB/s eta 0:00:03\n",
      "   ------------------- -------------------- 21.2/43.9 MB 8.4 MB/s eta 0:00:03\n",
      "   ------------------- -------------------- 21.7/43.9 MB 8.6 MB/s eta 0:00:03\n",
      "   -------------------- ------------------- 22.0/43.9 MB 9.0 MB/s eta 0:00:03\n",
      "   -------------------- ------------------- 22.7/43.9 MB 9.4 MB/s eta 0:00:03\n",
      "   --------------------- ------------------ 23.3/43.9 MB 9.1 MB/s eta 0:00:03\n",
      "   --------------------- ------------------ 23.8/43.9 MB 9.4 MB/s eta 0:00:03\n",
      "   ---------------------- ----------------- 24.3/43.9 MB 9.9 MB/s eta 0:00:02\n",
      "   ---------------------- ----------------- 24.8/43.9 MB 9.6 MB/s eta 0:00:02\n",
      "   ---------------------- ----------------- 25.2/43.9 MB 10.1 MB/s eta 0:00:02\n",
      "   ----------------------- ---------------- 25.5/43.9 MB 9.9 MB/s eta 0:00:02\n",
      "   ----------------------- ---------------- 25.9/43.9 MB 10.1 MB/s eta 0:00:02\n",
      "   ----------------------- ---------------- 26.3/43.9 MB 10.4 MB/s eta 0:00:02\n",
      "   ------------------------ --------------- 27.0/43.9 MB 10.4 MB/s eta 0:00:02\n",
      "   ------------------------- -------------- 27.5/43.9 MB 10.1 MB/s eta 0:00:02\n",
      "   ------------------------- -------------- 27.8/43.9 MB 10.1 MB/s eta 0:00:02\n",
      "   ------------------------- -------------- 28.4/43.9 MB 10.1 MB/s eta 0:00:02\n",
      "   ------------------------- -------------- 28.5/43.9 MB 10.2 MB/s eta 0:00:02\n",
      "   -------------------------- ------------- 29.2/43.9 MB 10.1 MB/s eta 0:00:02\n",
      "   --------------------------- ------------ 29.9/43.9 MB 10.4 MB/s eta 0:00:02\n",
      "   --------------------------- ------------ 30.4/43.9 MB 10.6 MB/s eta 0:00:02\n",
      "   --------------------------- ------------ 30.7/43.9 MB 10.4 MB/s eta 0:00:02\n",
      "   ---------------------------- ----------- 31.2/43.9 MB 10.6 MB/s eta 0:00:02\n",
      "   ---------------------------- ----------- 31.8/43.9 MB 10.6 MB/s eta 0:00:02\n",
      "   ----------------------------- ---------- 32.0/43.9 MB 10.1 MB/s eta 0:00:02\n",
      "   ----------------------------- ---------- 32.6/43.9 MB 10.2 MB/s eta 0:00:02\n",
      "   ------------------------------ --------- 33.3/43.9 MB 10.6 MB/s eta 0:00:02\n",
      "   ------------------------------ --------- 33.7/43.9 MB 10.1 MB/s eta 0:00:02\n",
      "   ------------------------------- -------- 34.0/43.9 MB 10.6 MB/s eta 0:00:01\n",
      "   ------------------------------- -------- 34.8/43.9 MB 10.6 MB/s eta 0:00:01\n",
      "   -------------------------------- ------- 35.5/43.9 MB 10.9 MB/s eta 0:00:01\n",
      "   --------------------------------- ------ 36.2/43.9 MB 11.1 MB/s eta 0:00:01\n",
      "   --------------------------------- ------ 37.0/43.9 MB 11.5 MB/s eta 0:00:01\n",
      "   ---------------------------------- ----- 37.6/43.9 MB 11.7 MB/s eta 0:00:01\n",
      "   ---------------------------------- ----- 37.8/43.9 MB 11.1 MB/s eta 0:00:01\n",
      "   ----------------------------------- ---- 38.5/43.9 MB 11.5 MB/s eta 0:00:01\n",
      "   ----------------------------------- ---- 39.1/43.9 MB 11.7 MB/s eta 0:00:01\n",
      "   ------------------------------------ --- 39.8/43.9 MB 12.1 MB/s eta 0:00:01\n",
      "   ------------------------------------ --- 40.4/43.9 MB 12.1 MB/s eta 0:00:01\n",
      "   ------------------------------------ --- 40.6/43.9 MB 11.9 MB/s eta 0:00:01\n",
      "   ------------------------------------- -- 40.9/43.9 MB 12.1 MB/s eta 0:00:01\n",
      "   ------------------------------------- -- 41.3/43.9 MB 11.9 MB/s eta 0:00:01\n",
      "   ------------------------------------- -- 41.7/43.9 MB 11.7 MB/s eta 0:00:01\n",
      "   -------------------------------------- - 42.0/43.9 MB 11.1 MB/s eta 0:00:01\n",
      "   -------------------------------------- - 42.4/43.9 MB 11.3 MB/s eta 0:00:01\n",
      "   ---------------------------------------  43.1/43.9 MB 11.5 MB/s eta 0:00:01\n",
      "   ---------------------------------------  43.5/43.9 MB 10.9 MB/s eta 0:00:01\n",
      "   ---------------------------------------  43.8/43.9 MB 11.3 MB/s eta 0:00:01\n",
      "   ---------------------------------------  43.9/43.9 MB 10.9 MB/s eta 0:00:01\n",
      "   ---------------------------------------  43.9/43.9 MB 10.9 MB/s eta 0:00:01\n",
      "   ---------------------------------------  43.9/43.9 MB 10.9 MB/s eta 0:00:01\n",
      "   ---------------------------------------- 43.9/43.9 MB 9.6 MB/s eta 0:00:00\n",
      "Downloading threadpoolctl-3.5.0-py3-none-any.whl (18 kB)\n",
      "Downloading tzdata-2024.2-py2.py3-none-any.whl (346 kB)\n",
      "   ---------------------------------------- 0.0/346.6 kB ? eta -:--:--\n",
      "   --------------------------------------- 346.6/346.6 kB 10.8 MB/s eta 0:00:00\n",
      "Downloading click-8.1.8-py3-none-any.whl (98 kB)\n",
      "   ---------------------------------------- 0.0/98.2 kB ? eta -:--:--\n",
      "   ---------------------------------------- 98.2/98.2 kB 5.5 MB/s eta 0:00:00\n",
      "Downloading tqdm-4.67.1-py3-none-any.whl (78 kB)\n",
      "   ---------------------------------------- 0.0/78.5 kB ? eta -:--:--\n",
      "   ---------------------------------------- 78.5/78.5 kB 4.3 MB/s eta 0:00:00\n",
      "Installing collected packages: pytz, tzdata, tqdm, threadpoolctl, regex, numpy, joblib, click, scipy, pandas, nltk, scikit-learn\n",
      "Successfully installed click-8.1.8 joblib-1.4.2 nltk-3.9.1 numpy-2.2.2 pandas-2.2.3 pytz-2024.2 regex-2024.11.6 scikit-learn-1.6.1 scipy-1.15.1 threadpoolctl-3.5.0 tqdm-4.67.1 tzdata-2024.2\n",
      "Note: you may need to restart the kernel to use updated packages.\n"
     ]
    },
    {
     "name": "stderr",
     "output_type": "stream",
     "text": [
      "\n",
      "[notice] A new release of pip is available: 24.0 -> 24.3.1\n",
      "[notice] To update, run: C:\\Users\\mithl\\AppData\\Local\\Microsoft\\WindowsApps\\PythonSoftwareFoundation.Python.3.11_qbz5n2kfra8p0\\python.exe -m pip install --upgrade pip\n"
     ]
    }
   ],
   "source": [
    "pip install nltk pandas scikit-learn"
   ]
  }
 ],
 "metadata": {
  "kernelspec": {
   "display_name": "venv",
   "language": "python",
   "name": "python3"
  },
  "language_info": {
   "codemirror_mode": {
    "name": "ipython",
    "version": 3
   },
   "file_extension": ".py",
   "mimetype": "text/x-python",
   "name": "python",
   "nbconvert_exporter": "python",
   "pygments_lexer": "ipython3",
   "version": "3.11.9"
  }
 },
 "nbformat": 4,
 "nbformat_minor": 2
}
